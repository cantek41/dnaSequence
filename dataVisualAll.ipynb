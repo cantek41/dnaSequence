{
 "cells": [
  {
   "cell_type": "code",
   "execution_count": 19,
   "metadata": {},
   "outputs": [],
   "source": [
    "from wordcloud import WordCloud"
   ]
  },
  {
   "cell_type": "code",
   "execution_count": 8,
   "metadata": {},
   "outputs": [],
   "source": [
    "import networkx as nx\n",
    "import matplotlib.pyplot as plt\n",
    "import seaborn as sns\n",
    "import pandas as pd"
   ]
  },
  {
   "cell_type": "code",
   "execution_count": 48,
   "metadata": {},
   "outputs": [],
   "source": [
    "def LZCompress(katar):\n",
    "    i, k = 0, 2\n",
    "    n = len(katar)\n",
    "    tmparray = []\n",
    "    tmp = \"\"\n",
    "    _tmp=\"\"\n",
    "    G = nx.DiGraph()    \n",
    "    while True:\n",
    "        if i >= n:\n",
    "            if tmp:\n",
    "                tmparray.append(tmp)\n",
    "                G.add_edge(_tmp,tmp)\n",
    "            break\n",
    "        if katar[i] is tmp:\n",
    "            tmp = tmp + katar[i]\n",
    "            i += 1\n",
    "            continue\n",
    "        tmp = tmp + katar[i]\n",
    "        if not tmp in tmparray:\n",
    "            tmparray.append(tmp)\n",
    "            if _tmp:\n",
    "                G.add_edge(_tmp,tmp)\n",
    "            _tmp=tmp\n",
    "            tmp = katar[i]\n",
    "        i += 1\n",
    "    return tmparray,G"
   ]
  },
  {
   "cell_type": "code",
   "execution_count": 42,
   "metadata": {},
   "outputs": [],
   "source": [
    "rawDf = pd.DataFrame(columns=['sequance', 'control'])"
   ]
  },
  {
   "cell_type": "code",
   "execution_count": 43,
   "metadata": {},
   "outputs": [],
   "source": [
    "'''\n",
    "rawDf = pd.DataFrame(columns=['sequance', 'control'])\n",
    "file = \"sampled.all\"\n",
    "with open(file,\"r\") as f:    \n",
    "    while True:\n",
    "        line1 = f.readline()\n",
    "        line2 = f.readline()\n",
    "        line3 = f.readline()\n",
    "        line4 = f.readline()\n",
    "        if not line1:\n",
    "            break\n",
    "        rawDf = rawDf.append({\"sequance\":line2.rstrip(), \"control\":line4.rstrip()}, ignore_index = True)        \n",
    "rawDf.to_csv(\"sample.csv\")\n",
    "rawDf.info()\n",
    "'''"
   ]
  },
  {
   "cell_type": "code",
   "execution_count": 44,
   "metadata": {},
   "outputs": [
    {
     "name": "stdout",
     "output_type": "stream",
     "text": [
      "<class 'pandas.core.frame.DataFrame'>\n",
      "RangeIndex: 92419 entries, 0 to 92418\n",
      "Data columns (total 2 columns):\n",
      "sequance    92419 non-null object\n",
      "control     92419 non-null object\n",
      "dtypes: object(2)\n",
      "memory usage: 1.4+ MB\n"
     ]
    }
   ],
   "source": [
    "rawDf=pd.read_csv(\"sample.csv\")"
   ]
  },
  {
   "cell_type": "code",
   "execution_count": 45,
   "metadata": {},
   "outputs": [],
   "source": [
    "sequance=''.join(rawDf[\"sequance\"])\n",
    "control=''.join(rawDf[\"control\"])"
   ]
  },
  {
   "cell_type": "code",
   "execution_count": 46,
   "metadata": {},
   "outputs": [
    {
     "name": "stdout",
     "output_type": "stream",
     "text": [
      "17371538 17371538\n"
     ]
    }
   ],
   "source": [
    "print(len(sequance),len(control))"
   ]
  },
  {
   "cell_type": "code",
   "execution_count": 2,
   "metadata": {},
   "outputs": [],
   "source": [
    "#dnaHomoSapiens=\"GACCTATATTGCCGCTGATGAAGCGACAAAACAGGCGATGGTGGAAGTGGTCTATGGCCGCTCCCTCTATGCCGGGGCGGCTCACGGGCCGTCGCCTACCGGTAATCCCAGGGCATTGATCATTGGCAGCCNNNNNNNNNNNNGNTGGACAGGGTTACGGGCGATATCCAGCACGGCGTCGGTAAAGGCGTTGCAGGCGGTGGAGCATCGTGGCGTCGATAGCAACTGGCTGGCCGTTCTTGTCAGCGTGGTCGCGCTGACTATCCTGGGCATTACTCTGCTGGTTTCTTTATTTGCGTCATTAACGGCTTTAAAGCCATCCAGATCCATAAACAGTAGCGCGAAAGACGTGCCTTCCCGATTCGCTTTGCTGATGGCCTGTTCCAGACGATCCT\"\n",
    "#control=\"AAGGGAGGIIIIIIIIIIIGGIIIIIIIIIGIIIIIIGIIIIIIIIIIIGIGIGIIIIIIIIIIIIIIIIIIIIGIIIIIGIIIIIIGGGIGIIGIIIIIIAGAGGIIIIIIIIGIIIGIGIIIIIIIIII############<#<<GGIGIGIIIIIIIIIIGIIIIIIIGIGGGIIIIIIIIGIIIIIIIIIIIIGIIGIGGIIGGIGGIIGGGGGGGGAGGGGGGGGGGGGGGIIIGGGIIGGIGGAGIGGGI<GGGIGGGGGIGIGGAGGGIAGIGGIGGGIIIGGGGGGI<GAGAGGGIIIIIIIIIGGG.GGGGIGGIGGGGIIIGGIIGGGGIIGGIIGGIIGGGGGGIIGGIIIGGIGIIIIIGAGGGGGGGGGGGGGGIIIGGGGG\""
   ]
  },
  {
   "cell_type": "markdown",
   "metadata": {},
   "source": [
    "Örüntülerin DNA sequance ından çıkarılması"
   ]
  },
  {
   "cell_type": "code",
   "execution_count": null,
   "metadata": {},
   "outputs": [],
   "source": [
    "xx, G = LZCompress(sequance)\n",
    "nx.write_gml(G, \"sequance.gml\")\n",
    "maxLenght=len(max(xx, key = len))\n",
    "d={}"
   ]
  },
  {
   "cell_type": "code",
   "execution_count": null,
   "metadata": {},
   "outputs": [],
   "source": [
    "Örüntülerden en uzununun karakter sayısı"
   ]
  },
  {
   "cell_type": "code",
   "execution_count": null,
   "metadata": {},
   "outputs": [],
   "source": [
    "maxLenght"
   ]
  },
  {
   "cell_type": "code",
   "execution_count": 5,
   "metadata": {},
   "outputs": [],
   "source": [
    "dd=[]\n",
    "for i,c in enumerate(control):    \n",
    "    if i == 0:\n",
    "        continue\n",
    "    item=ord(control[i])\n",
    "    itemBefore=ord(control[i-1])\n",
    "    if item <= itemBefore:\n",
    "        continue\n",
    "    for j in range(maxLenght):\n",
    "        if i-j>0:\n",
    "            s=sequance[i-j:i]\n",
    "            if len(s)>1 and  s in xx:\n",
    "                dd.append({\"str\":s,\"val\":control[i-1]+control[i],\n",
    "                           \"valInt\":item-itemBefore})"
   ]
  },
  {
   "cell_type": "code",
   "execution_count": 16,
   "metadata": {},
   "outputs": [
    {
     "data": {
      "text/html": [
       "<div>\n",
       "<style scoped>\n",
       "    .dataframe tbody tr th:only-of-type {\n",
       "        vertical-align: middle;\n",
       "    }\n",
       "\n",
       "    .dataframe tbody tr th {\n",
       "        vertical-align: top;\n",
       "    }\n",
       "\n",
       "    .dataframe thead th {\n",
       "        text-align: right;\n",
       "    }\n",
       "</style>\n",
       "<table border=\"1\" class=\"dataframe\">\n",
       "  <thead>\n",
       "    <tr style=\"text-align: right;\">\n",
       "      <th></th>\n",
       "      <th>str</th>\n",
       "      <th>val</th>\n",
       "      <th>valInt</th>\n",
       "      <th>strlen</th>\n",
       "      <th>count</th>\n",
       "    </tr>\n",
       "  </thead>\n",
       "  <tbody>\n",
       "    <tr>\n",
       "      <th>0</th>\n",
       "      <td>TA</td>\n",
       "      <td>AG</td>\n",
       "      <td>6</td>\n",
       "      <td>2</td>\n",
       "      <td>5</td>\n",
       "    </tr>\n",
       "    <tr>\n",
       "      <th>1</th>\n",
       "      <td>CTA</td>\n",
       "      <td>AG</td>\n",
       "      <td>6</td>\n",
       "      <td>3</td>\n",
       "      <td>2</td>\n",
       "    </tr>\n",
       "    <tr>\n",
       "      <th>2</th>\n",
       "      <td>TA</td>\n",
       "      <td>GI</td>\n",
       "      <td>2</td>\n",
       "      <td>2</td>\n",
       "      <td>5</td>\n",
       "    </tr>\n",
       "    <tr>\n",
       "      <th>3</th>\n",
       "      <td>ATA</td>\n",
       "      <td>GI</td>\n",
       "      <td>2</td>\n",
       "      <td>3</td>\n",
       "      <td>1</td>\n",
       "    </tr>\n",
       "    <tr>\n",
       "      <th>4</th>\n",
       "      <td>GA</td>\n",
       "      <td>GI</td>\n",
       "      <td>2</td>\n",
       "      <td>2</td>\n",
       "      <td>7</td>\n",
       "    </tr>\n",
       "  </tbody>\n",
       "</table>\n",
       "</div>"
      ],
      "text/plain": [
       "   str val  valInt  strlen  count\n",
       "0   TA  AG       6       2      5\n",
       "1  CTA  AG       6       3      2\n",
       "2   TA  GI       2       2      5\n",
       "3  ATA  GI       2       3      1\n",
       "4   GA  GI       2       2      7"
      ]
     },
     "execution_count": 16,
     "metadata": {},
     "output_type": "execute_result"
    }
   ],
   "source": [
    "df=pd.DataFrame(dd)\n",
    "df[\"strlen\"]=df[\"str\"].str.len()\n",
    "df[\"count\"]=df.groupby([\"str\"])[\"str\"].transform(\"count\")\n",
    "df.head()"
   ]
  },
  {
   "cell_type": "code",
   "execution_count": 24,
   "metadata": {},
   "outputs": [
    {
     "data": {
      "text/plain": [
       "[Text(0, 0, 'TGA'), Text(0, 0, 'CGG'), Text(0, 0, 'CGC')]"
      ]
     },
     "execution_count": 24,
     "metadata": {},
     "output_type": "execute_result"
    },
    {
     "data": {
      "image/png": "[encoded data removed]",
      "text/plain": [
       "<Figure size 1440x720 with 1 Axes>"
      ]
     },
     "metadata": {
      "needs_background": "light"
     },
     "output_type": "display_data"
    }
   ],
   "source": [
    "sc=df[df[\"count\"]>2]\n",
    "sc=sc[sc[\"strlen\"]>2]\n",
    "#sc=sc[\"str\"].value_counts()\n",
    "plt.figure(figsize=(20,10))\n",
    "chart = sns.countplot(sc[\"str\"])\n",
    "chart.set_xticklabels(chart.get_xticklabels(), \n",
    "                      rotation=45, horizontalalignment='right')"
   ]
  },
  {
   "cell_type": "code",
   "execution_count": 25,
   "metadata": {},
   "outputs": [
    {
     "data": {
      "image/png": "[encoded data removed]",
      "text/plain": [
       "<Figure size 432x288 with 1 Axes>"
      ]
     },
     "metadata": {
      "needs_background": "light"
     },
     "output_type": "display_data"
    }
   ],
   "source": [
    "text = \" \".join(review for review in sc[\"str\"])\n",
    "wordcloud = WordCloud().generate(text)\n",
    "\n",
    "# Display the generated image:\n",
    "plt.imshow(wordcloud, interpolation='bilinear')\n",
    "plt.axis(\"off\")\n",
    "plt.show()"
   ]
  },
  {
   "cell_type": "code",
   "execution_count": null,
   "metadata": {},
   "outputs": [],
   "source": []
  }
 ],
 "metadata": {
  "kernelspec": {
   "display_name": "Python 3",
   "language": "python",
   "name": "python3"
  },
  "language_info": {
   "codemirror_mode": {
    "name": "ipython",
    "version": 3
   },
   "file_extension": ".py",
   "mimetype": "text/x-python",
   "name": "python",
   "nbconvert_exporter": "python",
   "pygments_lexer": "ipython3",
   "version": "3.7.3"
  }
 },
 "nbformat": 4,
 "nbformat_minor": 2
}

{
 "cells": [
  {
   "cell_type": "code",
   "execution_count": 1,
   "metadata": {},
   "outputs": [],
   "source": [
    "from wordcloud import WordCloud"
   ]
  },
  {
   "cell_type": "code",
   "execution_count": 2,
   "metadata": {},
   "outputs": [],
   "source": [
    "import networkx as nx\n",
    "import matplotlib.pyplot as plt\n",
    "import seaborn as sns\n",
    "import pandas as pd"
   ]
  },
  {
   "cell_type": "code",
   "execution_count": 3,
   "metadata": {},
   "outputs": [],
   "source": [
    "rawDf=pd.read_csv(\"sample.csv\")"
   ]
  },
  {
   "cell_type": "code",
   "execution_count": 4,
   "metadata": {},
   "outputs": [],
   "source": [
    "sequance=''.join(rawDf[\"sequance\"])\n",
    "control=''.join(rawDf[\"control\"])"
   ]
  },
  {
   "cell_type": "code",
   "execution_count": 5,
   "metadata": {},
   "outputs": [
    {
     "name": "stdout",
     "output_type": "stream",
     "text": [
      "17371538 17371538\n"
     ]
    }
   ],
   "source": [
    "print(len(sequance),len(control))"
   ]
  },
  {
   "cell_type": "code",
   "execution_count": 2,
   "metadata": {},
   "outputs": [],
   "source": [
    "#dnaHomoSapiens=\"GACCTATATTGCCGCTGATGAAGCGACAAAACAGGCGATGGTGGAAGTGGTCTATGGCCGCTCCCTCTATGCCGGGGCGGCTCACGGGCCGTCGCCTACCGGTAATCCCAGGGCATTGATCATTGGCAGCCNNNNNNNNNNNNGNTGGACAGGGTTACGGGCGATATCCAGCACGGCGTCGGTAAAGGCGTTGCAGGCGGTGGAGCATCGTGGCGTCGATAGCAACTGGCTGGCCGTTCTTGTCAGCGTGGTCGCGCTGACTATCCTGGGCATTACTCTGCTGGTTTCTTTATTTGCGTCATTAACGGCTTTAAAGCCATCCAGATCCATAAACAGTAGCGCGAAAGACGTGCCTTCCCGATTCGCTTTGCTGATGGCCTGTTCCAGACGATCCT\"\n",
    "#control=\"AAGGGAGGIIIIIIIIIIIGGIIIIIIIIIGIIIIIIGIIIIIIIIIIIGIGIGIIIIIIIIIIIIIIIIIIIIGIIIIIGIIIIIIGGGIGIIGIIIIIIAGAGGIIIIIIIIGIIIGIGIIIIIIIIII############<#<<GGIGIGIIIIIIIIIIGIIIIIIIGIGGGIIIIIIIIGIIIIIIIIIIIIGIIGIGGIIGGIGGIIGGGGGGGGAGGGGGGGGGGGGGGIIIGGGIIGGIGGAGIGGGI<GGGIGGGGGIGIGGAGGGIAGIGGIGGGIIIGGGGGGI<GAGAGGGIIIIIIIIIGGG.GGGGIGGIGGGGIIIGGIIGGGGIIGGIIGGIIGGGGGGIIGGIIIGGIGIIIIIGAGGGGGGGGGGGGGGIIIGGGGG\""
   ]
  },
  {
   "cell_type": "markdown",
   "metadata": {},
   "source": [
    "Örüntülerin DNA sequance ından çıkarılması"
   ]
  },
  {
   "cell_type": "markdown",
   "metadata": {},
   "source": [
    "Örüntülerden en uzununun karakter sayısı"
   ]
  },
  {
   "cell_type": "code",
   "execution_count": 7,
   "metadata": {},
   "outputs": [],
   "source": [
    "maxLenght=4"
   ]
  },
  {
   "cell_type": "code",
   "execution_count": 9,
   "metadata": {},
   "outputs": [],
   "source": [
    "dd=[]\n",
    "for i,c in enumerate(control):    \n",
    "    if i == 0:\n",
    "        continue\n",
    "    item=ord(control[i])\n",
    "    itemBefore=ord(control[i-1])\n",
    "    if item <= itemBefore:\n",
    "        continue\n",
    "    for j in range(maxLenght):\n",
    "        if i-j>0:\n",
    "            s=sequance[i-j:i]\n",
    "            if len(s)>1 :\n",
    "                dd.append({\"str\":s,\"val\":control[i]+control[i-1],\n",
    "                           \"valInt\":item-itemBefore,\n",
    "                          \"location\":str(int(i/200))+\"-\"+str(i%20)})"
   ]
  },
  {
   "cell_type": "code",
   "execution_count": 10,
   "metadata": {},
   "outputs": [
    {
     "data": {
      "text/html": [
       "<div>\n",
       "<style scoped>\n",
       "    .dataframe tbody tr th:only-of-type {\n",
       "        vertical-align: middle;\n",
       "    }\n",
       "\n",
       "    .dataframe tbody tr th {\n",
       "        vertical-align: top;\n",
       "    }\n",
       "\n",
       "    .dataframe thead th {\n",
       "        text-align: right;\n",
       "    }\n",
       "</style>\n",
       "<table border=\"1\" class=\"dataframe\">\n",
       "  <thead>\n",
       "    <tr style=\"text-align: right;\">\n",
       "      <th></th>\n",
       "      <th>location</th>\n",
       "      <th>str</th>\n",
       "      <th>val</th>\n",
       "      <th>valInt</th>\n",
       "      <th>strlen</th>\n",
       "      <th>count</th>\n",
       "    </tr>\n",
       "  </thead>\n",
       "  <tbody>\n",
       "    <tr>\n",
       "      <th>0</th>\n",
       "      <td>0-4</td>\n",
       "      <td>CT</td>\n",
       "      <td>GF</td>\n",
       "      <td>1</td>\n",
       "      <td>2</td>\n",
       "      <td>341682</td>\n",
       "    </tr>\n",
       "    <tr>\n",
       "      <th>1</th>\n",
       "      <td>0-4</td>\n",
       "      <td>GCT</td>\n",
       "      <td>GF</td>\n",
       "      <td>1</td>\n",
       "      <td>3</td>\n",
       "      <td>82377</td>\n",
       "    </tr>\n",
       "    <tr>\n",
       "      <th>2</th>\n",
       "      <td>0-6</td>\n",
       "      <td>AT</td>\n",
       "      <td>FE</td>\n",
       "      <td>1</td>\n",
       "      <td>2</td>\n",
       "      <td>249165</td>\n",
       "    </tr>\n",
       "    <tr>\n",
       "      <th>3</th>\n",
       "      <td>0-6</td>\n",
       "      <td>TAT</td>\n",
       "      <td>FE</td>\n",
       "      <td>1</td>\n",
       "      <td>3</td>\n",
       "      <td>41389</td>\n",
       "    </tr>\n",
       "    <tr>\n",
       "      <th>4</th>\n",
       "      <td>0-9</td>\n",
       "      <td>GC</td>\n",
       "      <td>B=</td>\n",
       "      <td>5</td>\n",
       "      <td>2</td>\n",
       "      <td>260673</td>\n",
       "    </tr>\n",
       "  </tbody>\n",
       "</table>\n",
       "</div>"
      ],
      "text/plain": [
       "  location  str val  valInt  strlen   count\n",
       "0      0-4   CT  GF       1       2  341682\n",
       "1      0-4  GCT  GF       1       3   82377\n",
       "2      0-6   AT  FE       1       2  249165\n",
       "3      0-6  TAT  FE       1       3   41389\n",
       "4      0-9   GC  B=       5       2  260673"
      ]
     },
     "execution_count": 10,
     "metadata": {},
     "output_type": "execute_result"
    }
   ],
   "source": [
    "df=pd.DataFrame(dd)\n",
    "df[\"strlen\"]=df[\"str\"].str.len()\n",
    "df[\"count\"]=df.groupby([\"str\"])[\"str\"].transform(\"count\")\n",
    "df.head()"
   ]
  },
  {
   "cell_type": "code",
   "execution_count": 11,
   "metadata": {},
   "outputs": [],
   "source": [
    "df.to_csv(\"pattern_loc.csv\")"
   ]
  },
  {
   "cell_type": "code",
   "execution_count": 12,
   "metadata": {},
   "outputs": [
    {
     "data": {
      "text/html": [
       "<div>\n",
       "<style scoped>\n",
       "    .dataframe tbody tr th:only-of-type {\n",
       "        vertical-align: middle;\n",
       "    }\n",
       "\n",
       "    .dataframe tbody tr th {\n",
       "        vertical-align: top;\n",
       "    }\n",
       "\n",
       "    .dataframe thead th {\n",
       "        text-align: right;\n",
       "    }\n",
       "</style>\n",
       "<table border=\"1\" class=\"dataframe\">\n",
       "  <thead>\n",
       "    <tr style=\"text-align: right;\">\n",
       "      <th></th>\n",
       "      <th>location</th>\n",
       "      <th>str</th>\n",
       "      <th>val</th>\n",
       "      <th>valInt</th>\n",
       "      <th>strlen</th>\n",
       "      <th>count</th>\n",
       "    </tr>\n",
       "  </thead>\n",
       "  <tbody>\n",
       "    <tr>\n",
       "      <th>1</th>\n",
       "      <td>0-4</td>\n",
       "      <td>GCT</td>\n",
       "      <td>GF</td>\n",
       "      <td>1</td>\n",
       "      <td>3</td>\n",
       "      <td>82377</td>\n",
       "    </tr>\n",
       "    <tr>\n",
       "      <th>3</th>\n",
       "      <td>0-6</td>\n",
       "      <td>TAT</td>\n",
       "      <td>FE</td>\n",
       "      <td>1</td>\n",
       "      <td>3</td>\n",
       "      <td>41389</td>\n",
       "    </tr>\n",
       "    <tr>\n",
       "      <th>5</th>\n",
       "      <td>0-9</td>\n",
       "      <td>TGC</td>\n",
       "      <td>B=</td>\n",
       "      <td>5</td>\n",
       "      <td>3</td>\n",
       "      <td>72635</td>\n",
       "    </tr>\n",
       "    <tr>\n",
       "      <th>7</th>\n",
       "      <td>0-10</td>\n",
       "      <td>GCA</td>\n",
       "      <td>CB</td>\n",
       "      <td>1</td>\n",
       "      <td>3</td>\n",
       "      <td>85284</td>\n",
       "    </tr>\n",
       "    <tr>\n",
       "      <th>9</th>\n",
       "      <td>0-11</td>\n",
       "      <td>CAA</td>\n",
       "      <td>EC</td>\n",
       "      <td>2</td>\n",
       "      <td>3</td>\n",
       "      <td>70468</td>\n",
       "    </tr>\n",
       "  </tbody>\n",
       "</table>\n",
       "</div>"
      ],
      "text/plain": [
       "  location  str val  valInt  strlen  count\n",
       "1      0-4  GCT  GF       1       3  82377\n",
       "3      0-6  TAT  FE       1       3  41389\n",
       "5      0-9  TGC  B=       5       3  72635\n",
       "7     0-10  GCA  CB       1       3  85284\n",
       "9     0-11  CAA  EC       2       3  70468"
      ]
     },
     "execution_count": 12,
     "metadata": {},
     "output_type": "execute_result"
    }
   ],
   "source": [
    "sc=df[df[\"count\"]>22000]\n",
    "sc=sc[sc[\"strlen\"]>2]\n",
    "sc.head()"
   ]
  },
  {
   "cell_type": "code",
   "execution_count": 20,
   "metadata": {},
   "outputs": [],
   "source": [
    "sc.to_csv(\"pattern_3.csv\")"
   ]
  },
  {
   "cell_type": "code",
   "execution_count": 13,
   "metadata": {},
   "outputs": [
    {
     "data": {
      "text/plain": [
       "[Text(0, 0, 'GCT'),\n",
       " Text(0, 0, 'TAT'),\n",
       " Text(0, 0, 'TGC'),\n",
       " Text(0, 0, 'GCA'),\n",
       " Text(0, 0, 'CAA'),\n",
       " Text(0, 0, 'AAG'),\n",
       " Text(0, 0, 'AGA'),\n",
       " Text(0, 0, 'AGC'),\n",
       " Text(0, 0, 'CCG'),\n",
       " Text(0, 0, 'GGT'),\n",
       " Text(0, 0, 'TGA'),\n",
       " Text(0, 0, 'GAA'),\n",
       " Text(0, 0, 'ACA'),\n",
       " Text(0, 0, 'GAG'),\n",
       " Text(0, 0, 'AGT'),\n",
       " Text(0, 0, 'GTG'),\n",
       " Text(0, 0, 'TGG'),\n",
       " Text(0, 0, 'CAT'),\n",
       " Text(0, 0, 'GTC'),\n",
       " Text(0, 0, 'TCC'),\n",
       " Text(0, 0, 'TAA'),\n",
       " Text(0, 0, 'GGA'),\n",
       " Text(0, 0, 'CAC'),\n",
       " Text(0, 0, 'TCT'),\n",
       " Text(0, 0, 'TGT'),\n",
       " Text(0, 0, 'TTC'),\n",
       " Text(0, 0, 'CCC'),\n",
       " Text(0, 0, 'CTT'),\n",
       " Text(0, 0, 'CTC'),\n",
       " Text(0, 0, 'CCA'),\n",
       " Text(0, 0, 'CGT'),\n",
       " Text(0, 0, 'CCT'),\n",
       " Text(0, 0, 'CTG'),\n",
       " Text(0, 0, 'TTA'),\n",
       " Text(0, 0, 'CTA'),\n",
       " Text(0, 0, 'CGA'),\n",
       " Text(0, 0, 'AGG'),\n",
       " Text(0, 0, 'GGG'),\n",
       " Text(0, 0, 'ACC'),\n",
       " Text(0, 0, 'TCA'),\n",
       " Text(0, 0, 'ATG'),\n",
       " Text(0, 0, 'ATT'),\n",
       " Text(0, 0, 'TTT'),\n",
       " Text(0, 0, 'TTG'),\n",
       " Text(0, 0, 'GGC'),\n",
       " Text(0, 0, 'ATA'),\n",
       " Text(0, 0, 'AAA'),\n",
       " Text(0, 0, 'GAC'),\n",
       " Text(0, 0, 'GAT'),\n",
       " Text(0, 0, 'AAT'),\n",
       " Text(0, 0, 'TAC'),\n",
       " Text(0, 0, 'TAG'),\n",
       " Text(0, 0, 'GTT'),\n",
       " Text(0, 0, 'CAG'),\n",
       " Text(0, 0, 'GCC'),\n",
       " Text(0, 0, 'ACT'),\n",
       " Text(0, 0, 'AAC'),\n",
       " Text(0, 0, 'ATC'),\n",
       " Text(0, 0, 'GTA')]"
      ]
     },
     "execution_count": 13,
     "metadata": {},
     "output_type": "execute_result"
    },
    {
     "data": {
      "image/png": "[encoded data removed]",
      "text/plain": [
       "<Figure size 1440x720 with 1 Axes>"
      ]
     },
     "metadata": {
      "needs_background": "light"
     },
     "output_type": "display_data"
    }
   ],
   "source": [
    "plt.figure(figsize=(20,10))\n",
    "chart = sns.countplot(sc[\"str\"])\n",
    "chart.set_xticklabels(chart.get_xticklabels(), \n",
    "                      rotation=45, horizontalalignment='right')"
   ]
  },
  {
   "cell_type": "code",
   "execution_count": null,
   "metadata": {},
   "outputs": [],
   "source": [
    "text=\"\"\n",
    "text = \"\".join(review for review in sc[\"str\"])\n",
    "wordcloud = WordCloud().generate(text)\n",
    "\n",
    "# Display the generated image:\n",
    "plt.imshow(wordcloud, interpolation='bilinear')\n",
    "plt.axis(\"off\")\n",
    "plt.show()"
   ]
  },
  {
   "cell_type": "code",
   "execution_count": 15,
   "metadata": {},
   "outputs": [
    {
     "data": {
      "text/html": [
       "<div>\n",
       "<style scoped>\n",
       "    .dataframe tbody tr th:only-of-type {\n",
       "        vertical-align: middle;\n",
       "    }\n",
       "\n",
       "    .dataframe tbody tr th {\n",
       "        vertical-align: top;\n",
       "    }\n",
       "\n",
       "    .dataframe thead th {\n",
       "        text-align: right;\n",
       "    }\n",
       "</style>\n",
       "<table border=\"1\" class=\"dataframe\">\n",
       "  <thead>\n",
       "    <tr style=\"text-align: right;\">\n",
       "      <th></th>\n",
       "      <th>location</th>\n",
       "      <th>str</th>\n",
       "      <th>val</th>\n",
       "      <th>valInt</th>\n",
       "      <th>strlen</th>\n",
       "      <th>count</th>\n",
       "    </tr>\n",
       "  </thead>\n",
       "  <tbody>\n",
       "    <tr>\n",
       "      <th>7922207</th>\n",
       "      <td>81017-12</td>\n",
       "      <td>GGG</td>\n",
       "      <td>I#</td>\n",
       "      <td>38</td>\n",
       "      <td>3</td>\n",
       "      <td>59071</td>\n",
       "    </tr>\n",
       "    <tr>\n",
       "      <th>7887409</th>\n",
       "      <td>80683-12</td>\n",
       "      <td>AAC</td>\n",
       "      <td>I#</td>\n",
       "      <td>38</td>\n",
       "      <td>3</td>\n",
       "      <td>45213</td>\n",
       "    </tr>\n",
       "    <tr>\n",
       "      <th>7856775</th>\n",
       "      <td>80389-8</td>\n",
       "      <td>GCT</td>\n",
       "      <td>I#</td>\n",
       "      <td>38</td>\n",
       "      <td>3</td>\n",
       "      <td>82377</td>\n",
       "    </tr>\n",
       "    <tr>\n",
       "      <th>7895483</th>\n",
       "      <td>80759-12</td>\n",
       "      <td>GCC</td>\n",
       "      <td>I#</td>\n",
       "      <td>38</td>\n",
       "      <td>3</td>\n",
       "      <td>45077</td>\n",
       "    </tr>\n",
       "    <tr>\n",
       "      <th>7920879</th>\n",
       "      <td>81003-16</td>\n",
       "      <td>CCG</td>\n",
       "      <td>I#</td>\n",
       "      <td>38</td>\n",
       "      <td>3</td>\n",
       "      <td>24148</td>\n",
       "    </tr>\n",
       "  </tbody>\n",
       "</table>\n",
       "</div>"
      ],
      "text/plain": [
       "         location  str val  valInt  strlen  count\n",
       "7922207  81017-12  GGG  I#      38       3  59071\n",
       "7887409  80683-12  AAC  I#      38       3  45213\n",
       "7856775   80389-8  GCT  I#      38       3  82377\n",
       "7895483  80759-12  GCC  I#      38       3  45077\n",
       "7920879  81003-16  CCG  I#      38       3  24148"
      ]
     },
     "execution_count": 15,
     "metadata": {},
     "output_type": "execute_result"
    }
   ],
   "source": [
    "sc=sc.sort_values(by='valInt', ascending=False)\n",
    "sc.head()"
   ]
  },
  {
   "cell_type": "code",
   "execution_count": null,
   "metadata": {},
   "outputs": [],
   "source": [
    "sc=sc.sort_values(by='str', ascending=False)\n",
    "sc.head()"
   ]
  },
  {
   "cell_type": "code",
   "execution_count": 19,
   "metadata": {},
   "outputs": [],
   "source": [
    "import numpy as np"
   ]
  },
  {
   "cell_type": "code",
   "execution_count": 28,
   "metadata": {},
   "outputs": [
    {
     "name": "stderr",
     "output_type": "stream",
     "text": [
      "No handles with labels found to put in legend.\n"
     ]
    },
    {
     "data": {
      "image/png": "[encoded data removed]",
      "text/plain": [
       "<Figure size 432x288 with 2 Axes>"
      ]
     },
     "metadata": {
      "needs_background": "light"
     },
     "output_type": "display_data"
    }
   ],
   "source": [
    "N = 40\n",
    "x = np.random.rand(N)\n",
    "y = np.random.rand(N)\n",
    "colors = np.random.rand(N)\n",
    "plt.scatter(sc.str,y,s=sc.valInt*10, alpha=0.5,c=colors,cmap='viridis')\n",
    "plt.legend(numpoints=1)\n",
    "plt.colorbar();"
   ]
  },
  {
   "cell_type": "code",
   "execution_count": 31,
   "metadata": {},
   "outputs": [
    {
     "data": {
      "text/html": [
       "<div>\n",
       "<style scoped>\n",
       "    .dataframe tbody tr th:only-of-type {\n",
       "        vertical-align: middle;\n",
       "    }\n",
       "\n",
       "    .dataframe tbody tr th {\n",
       "        vertical-align: top;\n",
       "    }\n",
       "\n",
       "    .dataframe thead th {\n",
       "        text-align: right;\n",
       "    }\n",
       "</style>\n",
       "<table border=\"1\" class=\"dataframe\">\n",
       "  <thead>\n",
       "    <tr style=\"text-align: right;\">\n",
       "      <th></th>\n",
       "      <th>valInt</th>\n",
       "      <th>strlen</th>\n",
       "      <th>count</th>\n",
       "    </tr>\n",
       "  </thead>\n",
       "  <tbody>\n",
       "    <tr>\n",
       "      <th>count</th>\n",
       "      <td>4.251322e+06</td>\n",
       "      <td>4251322.0</td>\n",
       "      <td>4.251322e+06</td>\n",
       "    </tr>\n",
       "    <tr>\n",
       "      <th>mean</th>\n",
       "      <td>4.052984e+00</td>\n",
       "      <td>3.0</td>\n",
       "      <td>8.121990e+04</td>\n",
       "    </tr>\n",
       "    <tr>\n",
       "      <th>std</th>\n",
       "      <td>4.975489e+00</td>\n",
       "      <td>0.0</td>\n",
       "      <td>3.301949e+04</td>\n",
       "    </tr>\n",
       "    <tr>\n",
       "      <th>min</th>\n",
       "      <td>1.000000e+00</td>\n",
       "      <td>3.0</td>\n",
       "      <td>1.586700e+04</td>\n",
       "    </tr>\n",
       "    <tr>\n",
       "      <th>25%</th>\n",
       "      <td>1.000000e+00</td>\n",
       "      <td>3.0</td>\n",
       "      <td>5.907100e+04</td>\n",
       "    </tr>\n",
       "    <tr>\n",
       "      <th>50%</th>\n",
       "      <td>2.000000e+00</td>\n",
       "      <td>3.0</td>\n",
       "      <td>7.263500e+04</td>\n",
       "    </tr>\n",
       "    <tr>\n",
       "      <th>75%</th>\n",
       "      <td>5.000000e+00</td>\n",
       "      <td>3.0</td>\n",
       "      <td>9.726100e+04</td>\n",
       "    </tr>\n",
       "    <tr>\n",
       "      <th>max</th>\n",
       "      <td>3.800000e+01</td>\n",
       "      <td>3.0</td>\n",
       "      <td>1.502440e+05</td>\n",
       "    </tr>\n",
       "  </tbody>\n",
       "</table>\n",
       "</div>"
      ],
      "text/plain": [
       "             valInt     strlen         count\n",
       "count  4.251322e+06  4251322.0  4.251322e+06\n",
       "mean   4.052984e+00        3.0  8.121990e+04\n",
       "std    4.975489e+00        0.0  3.301949e+04\n",
       "min    1.000000e+00        3.0  1.586700e+04\n",
       "25%    1.000000e+00        3.0  5.907100e+04\n",
       "50%    2.000000e+00        3.0  7.263500e+04\n",
       "75%    5.000000e+00        3.0  9.726100e+04\n",
       "max    3.800000e+01        3.0  1.502440e+05"
      ]
     },
     "execution_count": 31,
     "metadata": {},
     "output_type": "execute_result"
    }
   ],
   "source": [
    "sc.describe()"
   ]
  },
  {
   "cell_type": "code",
   "execution_count": 16,
   "metadata": {},
   "outputs": [],
   "source": [
    "dsc=sc.groupby(\"str\").agg({'valInt': ['min','max','mean','sum',\"count\"]})"
   ]
  },
  {
   "cell_type": "code",
   "execution_count": 17,
   "metadata": {},
   "outputs": [],
   "source": [
    "dsc.to_csv(\"group_3_minmax.csv\")"
   ]
  },
  {
   "cell_type": "code",
   "execution_count": 18,
   "metadata": {},
   "outputs": [
    {
     "data": {
      "text/html": [
       "<div>\n",
       "<style scoped>\n",
       "    .dataframe tbody tr th:only-of-type {\n",
       "        vertical-align: middle;\n",
       "    }\n",
       "\n",
       "    .dataframe tbody tr th {\n",
       "        vertical-align: top;\n",
       "    }\n",
       "\n",
       "    .dataframe thead tr th {\n",
       "        text-align: left;\n",
       "    }\n",
       "\n",
       "    .dataframe thead tr:last-of-type th {\n",
       "        text-align: right;\n",
       "    }\n",
       "</style>\n",
       "<table border=\"1\" class=\"dataframe\">\n",
       "  <thead>\n",
       "    <tr>\n",
       "      <th></th>\n",
       "      <th colspan=\"5\" halign=\"left\">valInt</th>\n",
       "    </tr>\n",
       "    <tr>\n",
       "      <th></th>\n",
       "      <th>min</th>\n",
       "      <th>max</th>\n",
       "      <th>mean</th>\n",
       "      <th>sum</th>\n",
       "      <th>count</th>\n",
       "    </tr>\n",
       "    <tr>\n",
       "      <th>str</th>\n",
       "      <th></th>\n",
       "      <th></th>\n",
       "      <th></th>\n",
       "      <th></th>\n",
       "      <th></th>\n",
       "    </tr>\n",
       "  </thead>\n",
       "  <tbody>\n",
       "    <tr>\n",
       "      <th>AAA</th>\n",
       "      <td>1</td>\n",
       "      <td>38</td>\n",
       "      <td>3.617195</td>\n",
       "      <td>351812</td>\n",
       "      <td>97261</td>\n",
       "    </tr>\n",
       "    <tr>\n",
       "      <th>AAC</th>\n",
       "      <td>1</td>\n",
       "      <td>38</td>\n",
       "      <td>3.939862</td>\n",
       "      <td>178133</td>\n",
       "      <td>45213</td>\n",
       "    </tr>\n",
       "    <tr>\n",
       "      <th>AAG</th>\n",
       "      <td>1</td>\n",
       "      <td>38</td>\n",
       "      <td>3.964784</td>\n",
       "      <td>283601</td>\n",
       "      <td>71530</td>\n",
       "    </tr>\n",
       "    <tr>\n",
       "      <th>AAT</th>\n",
       "      <td>1</td>\n",
       "      <td>38</td>\n",
       "      <td>3.753358</td>\n",
       "      <td>248720</td>\n",
       "      <td>66266</td>\n",
       "    </tr>\n",
       "    <tr>\n",
       "      <th>ACA</th>\n",
       "      <td>1</td>\n",
       "      <td>38</td>\n",
       "      <td>3.788898</td>\n",
       "      <td>330210</td>\n",
       "      <td>87152</td>\n",
       "    </tr>\n",
       "    <tr>\n",
       "      <th>ACC</th>\n",
       "      <td>1</td>\n",
       "      <td>38</td>\n",
       "      <td>3.862256</td>\n",
       "      <td>170619</td>\n",
       "      <td>44176</td>\n",
       "    </tr>\n",
       "    <tr>\n",
       "      <th>ACT</th>\n",
       "      <td>1</td>\n",
       "      <td>37</td>\n",
       "      <td>3.705583</td>\n",
       "      <td>236016</td>\n",
       "      <td>63692</td>\n",
       "    </tr>\n",
       "    <tr>\n",
       "      <th>AGA</th>\n",
       "      <td>1</td>\n",
       "      <td>38</td>\n",
       "      <td>4.283895</td>\n",
       "      <td>615373</td>\n",
       "      <td>143648</td>\n",
       "    </tr>\n",
       "    <tr>\n",
       "      <th>AGC</th>\n",
       "      <td>1</td>\n",
       "      <td>38</td>\n",
       "      <td>4.465786</td>\n",
       "      <td>376890</td>\n",
       "      <td>84395</td>\n",
       "    </tr>\n",
       "    <tr>\n",
       "      <th>AGG</th>\n",
       "      <td>1</td>\n",
       "      <td>38</td>\n",
       "      <td>4.284852</td>\n",
       "      <td>281819</td>\n",
       "      <td>65771</td>\n",
       "    </tr>\n",
       "  </tbody>\n",
       "</table>\n",
       "</div>"
      ],
      "text/plain": [
       "    valInt                              \n",
       "       min max      mean     sum   count\n",
       "str                                     \n",
       "AAA      1  38  3.617195  351812   97261\n",
       "AAC      1  38  3.939862  178133   45213\n",
       "AAG      1  38  3.964784  283601   71530\n",
       "AAT      1  38  3.753358  248720   66266\n",
       "ACA      1  38  3.788898  330210   87152\n",
       "ACC      1  38  3.862256  170619   44176\n",
       "ACT      1  37  3.705583  236016   63692\n",
       "AGA      1  38  4.283895  615373  143648\n",
       "AGC      1  38  4.465786  376890   84395\n",
       "AGG      1  38  4.284852  281819   65771"
      ]
     },
     "execution_count": 18,
     "metadata": {},
     "output_type": "execute_result"
    }
   ],
   "source": [
    "#dsc=pd.read_csv(\"group_10_minmax.csv\")\n",
    "dsc.head(10)"
   ]
  },
  {
   "cell_type": "code",
   "execution_count": 61,
   "metadata": {
    "scrolled": true
   },
   "outputs": [
    {
     "name": "stdout",
     "output_type": "stream",
     "text": [
      "<class 'pandas.core.frame.DataFrame'>\n",
      "RangeIndex: 64 entries, 0 to 63\n",
      "Data columns (total 5 columns):\n",
      "str     64 non-null object\n",
      "min     64 non-null int64\n",
      "max     64 non-null int64\n",
      "mean    64 non-null float64\n",
      "sum     64 non-null int64\n",
      "dtypes: float64(1), int64(3), object(1)\n",
      "memory usage: 2.6+ KB\n"
     ]
    }
   ],
   "source": [
    "dsc.info()"
   ]
  },
  {
   "cell_type": "code",
   "execution_count": 19,
   "metadata": {},
   "outputs": [
    {
     "ename": "KeyError",
     "evalue": "'str'",
     "output_type": "error",
     "traceback": [
      "\u001b[1;31m---------------------------------------------------------------------------\u001b[0m",
      "\u001b[1;31mKeyError\u001b[0m                                  Traceback (most recent call last)",
      "\u001b[1;32mC:\\ProgramData\\Anaconda3\\lib\\site-packages\\pandas\\core\\indexes\\base.py\u001b[0m in \u001b[0;36mget_loc\u001b[1;34m(self, key, method, tolerance)\u001b[0m\n\u001b[0;32m   2656\u001b[0m             \u001b[1;32mtry\u001b[0m\u001b[1;33m:\u001b[0m\u001b[1;33m\u001b[0m\u001b[1;33m\u001b[0m\u001b[0m\n\u001b[1;32m-> 2657\u001b[1;33m                 \u001b[1;32mreturn\u001b[0m \u001b[0mself\u001b[0m\u001b[1;33m.\u001b[0m\u001b[0m_engine\u001b[0m\u001b[1;33m.\u001b[0m\u001b[0mget_loc\u001b[0m\u001b[1;33m(\u001b[0m\u001b[0mkey\u001b[0m\u001b[1;33m)\u001b[0m\u001b[1;33m\u001b[0m\u001b[1;33m\u001b[0m\u001b[0m\n\u001b[0m\u001b[0;32m   2658\u001b[0m             \u001b[1;32mexcept\u001b[0m \u001b[0mKeyError\u001b[0m\u001b[1;33m:\u001b[0m\u001b[1;33m\u001b[0m\u001b[1;33m\u001b[0m\u001b[0m\n",
      "\u001b[1;32mpandas/_libs/index.pyx\u001b[0m in \u001b[0;36mpandas._libs.index.IndexEngine.get_loc\u001b[1;34m()\u001b[0m\n",
      "\u001b[1;32mpandas/_libs/index.pyx\u001b[0m in \u001b[0;36mpandas._libs.index.IndexEngine.get_loc\u001b[1;34m()\u001b[0m\n",
      "\u001b[1;32mpandas/_libs/hashtable_class_helper.pxi\u001b[0m in \u001b[0;36mpandas._libs.hashtable.PyObjectHashTable.get_item\u001b[1;34m()\u001b[0m\n",
      "\u001b[1;32mpandas/_libs/hashtable_class_helper.pxi\u001b[0m in \u001b[0;36mpandas._libs.hashtable.PyObjectHashTable.get_item\u001b[1;34m()\u001b[0m\n",
      "\u001b[1;31mKeyError\u001b[0m: 'str'",
      "\nDuring handling of the above exception, another exception occurred:\n",
      "\u001b[1;31mKeyError\u001b[0m                                  Traceback (most recent call last)",
      "\u001b[1;32m<ipython-input-19-577daa1e305a>\u001b[0m in \u001b[0;36m<module>\u001b[1;34m\u001b[0m\n\u001b[0;32m      1\u001b[0m \u001b[0mplt\u001b[0m\u001b[1;33m.\u001b[0m\u001b[0mfigure\u001b[0m\u001b[1;33m(\u001b[0m\u001b[0mfigsize\u001b[0m\u001b[1;33m=\u001b[0m\u001b[1;33m(\u001b[0m\u001b[1;36m20\u001b[0m\u001b[1;33m,\u001b[0m\u001b[1;36m4\u001b[0m\u001b[1;33m)\u001b[0m\u001b[1;33m)\u001b[0m\u001b[1;33m\u001b[0m\u001b[1;33m\u001b[0m\u001b[0m\n\u001b[0;32m      2\u001b[0m \u001b[0mplt\u001b[0m\u001b[1;33m.\u001b[0m\u001b[0mxticks\u001b[0m\u001b[1;33m(\u001b[0m\u001b[0mrotation\u001b[0m\u001b[1;33m=\u001b[0m\u001b[1;36m45\u001b[0m\u001b[1;33m)\u001b[0m\u001b[1;33m\u001b[0m\u001b[1;33m\u001b[0m\u001b[0m\n\u001b[1;32m----> 3\u001b[1;33m \u001b[0mplt\u001b[0m\u001b[1;33m.\u001b[0m\u001b[0mbar\u001b[0m\u001b[1;33m(\u001b[0m\u001b[0mdsc\u001b[0m\u001b[1;33m[\u001b[0m\u001b[1;34m\"str\"\u001b[0m\u001b[1;33m]\u001b[0m\u001b[1;33m,\u001b[0m \u001b[0mdsc\u001b[0m\u001b[1;33m[\u001b[0m\u001b[1;34m\"max\"\u001b[0m\u001b[1;33m]\u001b[0m\u001b[1;33m)\u001b[0m\u001b[1;33m\u001b[0m\u001b[1;33m\u001b[0m\u001b[0m\n\u001b[0m\u001b[0;32m      4\u001b[0m \u001b[0mplt\u001b[0m\u001b[1;33m.\u001b[0m\u001b[0mbar\u001b[0m\u001b[1;33m(\u001b[0m\u001b[0mdsc\u001b[0m\u001b[1;33m[\u001b[0m\u001b[1;34m\"str\"\u001b[0m\u001b[1;33m]\u001b[0m\u001b[1;33m,\u001b[0m \u001b[0mdsc\u001b[0m\u001b[1;33m[\u001b[0m\u001b[1;34m\"mean\"\u001b[0m\u001b[1;33m]\u001b[0m\u001b[1;33m)\u001b[0m\u001b[1;33m\u001b[0m\u001b[1;33m\u001b[0m\u001b[0m\n\u001b[0;32m      5\u001b[0m \u001b[0mplt\u001b[0m\u001b[1;33m.\u001b[0m\u001b[0mbar\u001b[0m\u001b[1;33m(\u001b[0m\u001b[0mdsc\u001b[0m\u001b[1;33m[\u001b[0m\u001b[1;34m\"str\"\u001b[0m\u001b[1;33m]\u001b[0m\u001b[1;33m,\u001b[0m \u001b[0mdsc\u001b[0m\u001b[1;33m[\u001b[0m\u001b[1;34m\"min\"\u001b[0m\u001b[1;33m]\u001b[0m\u001b[1;33m)\u001b[0m\u001b[1;33m\u001b[0m\u001b[1;33m\u001b[0m\u001b[0m\n",
      "\u001b[1;32mC:\\ProgramData\\Anaconda3\\lib\\site-packages\\pandas\\core\\frame.py\u001b[0m in \u001b[0;36m__getitem__\u001b[1;34m(self, key)\u001b[0m\n\u001b[0;32m   2924\u001b[0m         \u001b[1;32mif\u001b[0m \u001b[0mis_single_key\u001b[0m\u001b[1;33m:\u001b[0m\u001b[1;33m\u001b[0m\u001b[1;33m\u001b[0m\u001b[0m\n\u001b[0;32m   2925\u001b[0m             \u001b[1;32mif\u001b[0m \u001b[0mself\u001b[0m\u001b[1;33m.\u001b[0m\u001b[0mcolumns\u001b[0m\u001b[1;33m.\u001b[0m\u001b[0mnlevels\u001b[0m \u001b[1;33m>\u001b[0m \u001b[1;36m1\u001b[0m\u001b[1;33m:\u001b[0m\u001b[1;33m\u001b[0m\u001b[1;33m\u001b[0m\u001b[0m\n\u001b[1;32m-> 2926\u001b[1;33m                 \u001b[1;32mreturn\u001b[0m \u001b[0mself\u001b[0m\u001b[1;33m.\u001b[0m\u001b[0m_getitem_multilevel\u001b[0m\u001b[1;33m(\u001b[0m\u001b[0mkey\u001b[0m\u001b[1;33m)\u001b[0m\u001b[1;33m\u001b[0m\u001b[1;33m\u001b[0m\u001b[0m\n\u001b[0m\u001b[0;32m   2927\u001b[0m             \u001b[0mindexer\u001b[0m \u001b[1;33m=\u001b[0m \u001b[0mself\u001b[0m\u001b[1;33m.\u001b[0m\u001b[0mcolumns\u001b[0m\u001b[1;33m.\u001b[0m\u001b[0mget_loc\u001b[0m\u001b[1;33m(\u001b[0m\u001b[0mkey\u001b[0m\u001b[1;33m)\u001b[0m\u001b[1;33m\u001b[0m\u001b[1;33m\u001b[0m\u001b[0m\n\u001b[0;32m   2928\u001b[0m             \u001b[1;32mif\u001b[0m \u001b[0mis_integer\u001b[0m\u001b[1;33m(\u001b[0m\u001b[0mindexer\u001b[0m\u001b[1;33m)\u001b[0m\u001b[1;33m:\u001b[0m\u001b[1;33m\u001b[0m\u001b[1;33m\u001b[0m\u001b[0m\n",
      "\u001b[1;32mC:\\ProgramData\\Anaconda3\\lib\\site-packages\\pandas\\core\\frame.py\u001b[0m in \u001b[0;36m_getitem_multilevel\u001b[1;34m(self, key)\u001b[0m\n\u001b[0;32m   2970\u001b[0m \u001b[1;33m\u001b[0m\u001b[0m\n\u001b[0;32m   2971\u001b[0m     \u001b[1;32mdef\u001b[0m \u001b[0m_getitem_multilevel\u001b[0m\u001b[1;33m(\u001b[0m\u001b[0mself\u001b[0m\u001b[1;33m,\u001b[0m \u001b[0mkey\u001b[0m\u001b[1;33m)\u001b[0m\u001b[1;33m:\u001b[0m\u001b[1;33m\u001b[0m\u001b[1;33m\u001b[0m\u001b[0m\n\u001b[1;32m-> 2972\u001b[1;33m         \u001b[0mloc\u001b[0m \u001b[1;33m=\u001b[0m \u001b[0mself\u001b[0m\u001b[1;33m.\u001b[0m\u001b[0mcolumns\u001b[0m\u001b[1;33m.\u001b[0m\u001b[0mget_loc\u001b[0m\u001b[1;33m(\u001b[0m\u001b[0mkey\u001b[0m\u001b[1;33m)\u001b[0m\u001b[1;33m\u001b[0m\u001b[1;33m\u001b[0m\u001b[0m\n\u001b[0m\u001b[0;32m   2973\u001b[0m         \u001b[1;32mif\u001b[0m \u001b[0misinstance\u001b[0m\u001b[1;33m(\u001b[0m\u001b[0mloc\u001b[0m\u001b[1;33m,\u001b[0m \u001b[1;33m(\u001b[0m\u001b[0mslice\u001b[0m\u001b[1;33m,\u001b[0m \u001b[0mSeries\u001b[0m\u001b[1;33m,\u001b[0m \u001b[0mnp\u001b[0m\u001b[1;33m.\u001b[0m\u001b[0mndarray\u001b[0m\u001b[1;33m,\u001b[0m \u001b[0mIndex\u001b[0m\u001b[1;33m)\u001b[0m\u001b[1;33m)\u001b[0m\u001b[1;33m:\u001b[0m\u001b[1;33m\u001b[0m\u001b[1;33m\u001b[0m\u001b[0m\n\u001b[0;32m   2974\u001b[0m             \u001b[0mnew_columns\u001b[0m \u001b[1;33m=\u001b[0m \u001b[0mself\u001b[0m\u001b[1;33m.\u001b[0m\u001b[0mcolumns\u001b[0m\u001b[1;33m[\u001b[0m\u001b[0mloc\u001b[0m\u001b[1;33m]\u001b[0m\u001b[1;33m\u001b[0m\u001b[1;33m\u001b[0m\u001b[0m\n",
      "\u001b[1;32mC:\\ProgramData\\Anaconda3\\lib\\site-packages\\pandas\\core\\indexes\\multi.py\u001b[0m in \u001b[0;36mget_loc\u001b[1;34m(self, key, method)\u001b[0m\n\u001b[0;32m   2395\u001b[0m \u001b[1;33m\u001b[0m\u001b[0m\n\u001b[0;32m   2396\u001b[0m         \u001b[1;32mif\u001b[0m \u001b[1;32mnot\u001b[0m \u001b[0misinstance\u001b[0m\u001b[1;33m(\u001b[0m\u001b[0mkey\u001b[0m\u001b[1;33m,\u001b[0m \u001b[0mtuple\u001b[0m\u001b[1;33m)\u001b[0m\u001b[1;33m:\u001b[0m\u001b[1;33m\u001b[0m\u001b[1;33m\u001b[0m\u001b[0m\n\u001b[1;32m-> 2397\u001b[1;33m             \u001b[0mloc\u001b[0m \u001b[1;33m=\u001b[0m \u001b[0mself\u001b[0m\u001b[1;33m.\u001b[0m\u001b[0m_get_level_indexer\u001b[0m\u001b[1;33m(\u001b[0m\u001b[0mkey\u001b[0m\u001b[1;33m,\u001b[0m \u001b[0mlevel\u001b[0m\u001b[1;33m=\u001b[0m\u001b[1;36m0\u001b[0m\u001b[1;33m)\u001b[0m\u001b[1;33m\u001b[0m\u001b[1;33m\u001b[0m\u001b[0m\n\u001b[0m\u001b[0;32m   2398\u001b[0m             \u001b[1;32mreturn\u001b[0m \u001b[0m_maybe_to_slice\u001b[0m\u001b[1;33m(\u001b[0m\u001b[0mloc\u001b[0m\u001b[1;33m)\u001b[0m\u001b[1;33m\u001b[0m\u001b[1;33m\u001b[0m\u001b[0m\n\u001b[0;32m   2399\u001b[0m \u001b[1;33m\u001b[0m\u001b[0m\n",
      "\u001b[1;32mC:\\ProgramData\\Anaconda3\\lib\\site-packages\\pandas\\core\\indexes\\multi.py\u001b[0m in \u001b[0;36m_get_level_indexer\u001b[1;34m(self, key, level, indexer)\u001b[0m\n\u001b[0;32m   2650\u001b[0m         \u001b[1;32melse\u001b[0m\u001b[1;33m:\u001b[0m\u001b[1;33m\u001b[0m\u001b[1;33m\u001b[0m\u001b[0m\n\u001b[0;32m   2651\u001b[0m \u001b[1;33m\u001b[0m\u001b[0m\n\u001b[1;32m-> 2652\u001b[1;33m             \u001b[0mcode\u001b[0m \u001b[1;33m=\u001b[0m \u001b[0mlevel_index\u001b[0m\u001b[1;33m.\u001b[0m\u001b[0mget_loc\u001b[0m\u001b[1;33m(\u001b[0m\u001b[0mkey\u001b[0m\u001b[1;33m)\u001b[0m\u001b[1;33m\u001b[0m\u001b[1;33m\u001b[0m\u001b[0m\n\u001b[0m\u001b[0;32m   2653\u001b[0m \u001b[1;33m\u001b[0m\u001b[0m\n\u001b[0;32m   2654\u001b[0m             \u001b[1;32mif\u001b[0m \u001b[0mlevel\u001b[0m \u001b[1;33m>\u001b[0m \u001b[1;36m0\u001b[0m \u001b[1;32mor\u001b[0m \u001b[0mself\u001b[0m\u001b[1;33m.\u001b[0m\u001b[0mlexsort_depth\u001b[0m \u001b[1;33m==\u001b[0m \u001b[1;36m0\u001b[0m\u001b[1;33m:\u001b[0m\u001b[1;33m\u001b[0m\u001b[1;33m\u001b[0m\u001b[0m\n",
      "\u001b[1;32mC:\\ProgramData\\Anaconda3\\lib\\site-packages\\pandas\\core\\indexes\\base.py\u001b[0m in \u001b[0;36mget_loc\u001b[1;34m(self, key, method, tolerance)\u001b[0m\n\u001b[0;32m   2657\u001b[0m                 \u001b[1;32mreturn\u001b[0m \u001b[0mself\u001b[0m\u001b[1;33m.\u001b[0m\u001b[0m_engine\u001b[0m\u001b[1;33m.\u001b[0m\u001b[0mget_loc\u001b[0m\u001b[1;33m(\u001b[0m\u001b[0mkey\u001b[0m\u001b[1;33m)\u001b[0m\u001b[1;33m\u001b[0m\u001b[1;33m\u001b[0m\u001b[0m\n\u001b[0;32m   2658\u001b[0m             \u001b[1;32mexcept\u001b[0m \u001b[0mKeyError\u001b[0m\u001b[1;33m:\u001b[0m\u001b[1;33m\u001b[0m\u001b[1;33m\u001b[0m\u001b[0m\n\u001b[1;32m-> 2659\u001b[1;33m                 \u001b[1;32mreturn\u001b[0m \u001b[0mself\u001b[0m\u001b[1;33m.\u001b[0m\u001b[0m_engine\u001b[0m\u001b[1;33m.\u001b[0m\u001b[0mget_loc\u001b[0m\u001b[1;33m(\u001b[0m\u001b[0mself\u001b[0m\u001b[1;33m.\u001b[0m\u001b[0m_maybe_cast_indexer\u001b[0m\u001b[1;33m(\u001b[0m\u001b[0mkey\u001b[0m\u001b[1;33m)\u001b[0m\u001b[1;33m)\u001b[0m\u001b[1;33m\u001b[0m\u001b[1;33m\u001b[0m\u001b[0m\n\u001b[0m\u001b[0;32m   2660\u001b[0m         \u001b[0mindexer\u001b[0m \u001b[1;33m=\u001b[0m \u001b[0mself\u001b[0m\u001b[1;33m.\u001b[0m\u001b[0mget_indexer\u001b[0m\u001b[1;33m(\u001b[0m\u001b[1;33m[\u001b[0m\u001b[0mkey\u001b[0m\u001b[1;33m]\u001b[0m\u001b[1;33m,\u001b[0m \u001b[0mmethod\u001b[0m\u001b[1;33m=\u001b[0m\u001b[0mmethod\u001b[0m\u001b[1;33m,\u001b[0m \u001b[0mtolerance\u001b[0m\u001b[1;33m=\u001b[0m\u001b[0mtolerance\u001b[0m\u001b[1;33m)\u001b[0m\u001b[1;33m\u001b[0m\u001b[1;33m\u001b[0m\u001b[0m\n\u001b[0;32m   2661\u001b[0m         \u001b[1;32mif\u001b[0m \u001b[0mindexer\u001b[0m\u001b[1;33m.\u001b[0m\u001b[0mndim\u001b[0m \u001b[1;33m>\u001b[0m \u001b[1;36m1\u001b[0m \u001b[1;32mor\u001b[0m \u001b[0mindexer\u001b[0m\u001b[1;33m.\u001b[0m\u001b[0msize\u001b[0m \u001b[1;33m>\u001b[0m \u001b[1;36m1\u001b[0m\u001b[1;33m:\u001b[0m\u001b[1;33m\u001b[0m\u001b[1;33m\u001b[0m\u001b[0m\n",
      "\u001b[1;32mpandas/_libs/index.pyx\u001b[0m in \u001b[0;36mpandas._libs.index.IndexEngine.get_loc\u001b[1;34m()\u001b[0m\n",
      "\u001b[1;32mpandas/_libs/index.pyx\u001b[0m in \u001b[0;36mpandas._libs.index.IndexEngine.get_loc\u001b[1;34m()\u001b[0m\n",
      "\u001b[1;32mpandas/_libs/hashtable_class_helper.pxi\u001b[0m in \u001b[0;36mpandas._libs.hashtable.PyObjectHashTable.get_item\u001b[1;34m()\u001b[0m\n",
      "\u001b[1;32mpandas/_libs/hashtable_class_helper.pxi\u001b[0m in \u001b[0;36mpandas._libs.hashtable.PyObjectHashTable.get_item\u001b[1;34m()\u001b[0m\n",
      "\u001b[1;31mKeyError\u001b[0m: 'str'"
     ]
    },
    {
     "data": {
      "image/png": "[encoded data removed]",
      "text/plain": [
       "<Figure size 1440x288 with 1 Axes>"
      ]
     },
     "metadata": {
      "needs_background": "light"
     },
     "output_type": "display_data"
    }
   ],
   "source": [
    "plt.figure(figsize=(20,4))\n",
    "plt.xticks(rotation=45)\n",
    "plt.bar(dsc[\"str\"], dsc[\"max\"])\n",
    "plt.bar(dsc[\"str\"], dsc[\"mean\"])\n",
    "plt.bar(dsc[\"str\"], dsc[\"min\"])\n",
    "plt.legend([\"max\",\"mean\",\"min\"])"
   ]
  },
  {
   "cell_type": "code",
   "execution_count": null,
   "metadata": {},
   "outputs": [],
   "source": []
  }
 ],
 "metadata": {
  "kernelspec": {
   "display_name": "Python 3",
   "language": "python",
   "name": "python3"
  },
  "language_info": {
   "codemirror_mode": {
    "name": "ipython",
    "version": 3
   },
   "file_extension": ".py",
   "mimetype": "text/x-python",
   "name": "python",
   "nbconvert_exporter": "python",
   "pygments_lexer": "ipython3",
   "version": "3.7.3"
  }
 },
 "nbformat": 4,
 "nbformat_minor": 2
}
